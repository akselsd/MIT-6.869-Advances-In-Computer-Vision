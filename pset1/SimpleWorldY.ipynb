{
  "nbformat": 4,
  "nbformat_minor": 0,
  "metadata": {
    "colab": {
      "name": "SimpleWorldY.ipynb",
      "version": "0.3.2",
      "provenance": [],
      "collapsed_sections": [],
      "machine_shape": "hm"
    },
    "kernelspec": {
      "name": "python3",
      "display_name": "Python 3"
    }
  },
  "cells": [
    {
      "cell_type": "markdown",
      "metadata": {
        "id": "-u7bMCDts91s",
        "colab_type": "text"
      },
      "source": [
        "## Imports and download data"
      ]
    },
    {
      "cell_type": "code",
      "metadata": {
        "id": "-HvVV46iqakz",
        "colab_type": "code",
        "colab": {}
      },
      "source": [
        "import cv2\n",
        "import math\n",
        "import numpy as np\n",
        "import matplotlib.pyplot as plt\n",
        "from scipy.signal import convolve2d as conv2d\n",
        "import scipy.sparse as sps\n",
        "from PIL import Image\n",
        "\n",
        "# Package for fast equation solving\n",
        "from sys import platform\n",
        "print(platform)\n",
        "if platform == \"linux\" or platform == \"linux2\":\n",
        "    ! apt-get install libsuitesparse-dev\n",
        "elif platform == \"darwin\":\n",
        "    ! brew install suite-sparse\n",
        "\n",
        "! pip3 install sparseqr\n",
        "import sparseqr"
      ],
      "execution_count": 0,
      "outputs": []
    },
    {
      "cell_type": "code",
      "metadata": {
        "id": "frIM-azJnnq4",
        "colab_type": "code",
        "colab": {}
      },
      "source": [
        "! wget http://6.869.csail.mit.edu/fa19/psets19/pset1/img4.png\n",
        "! wget https://materialescolar.abacus.coop/media/catalog/product/cache/1/image/650x/040ec09b1e35df139433887a97daa66f/fotos/1240651.99.jpg"
      ],
      "execution_count": 0,
      "outputs": []
    },
    {
      "cell_type": "code",
      "metadata": {
        "id": "J2EZwGOkMqUb",
        "colab_type": "code",
        "cellView": "code",
        "colab": {}
      },
      "source": [
        "# World parameters\n",
        "alpha = 35*math.pi/180;\n",
        "\n",
        "cylinder = \"1240651.99.jpg\"\n",
        "\n",
        "#img = cv2.imread('img4.png')\n",
        "img = cv2.imread(cylinder)\n",
        "img = img[:, :, ::-1].astype(np.float32)\n",
        "\n",
        "nrows, ncols, colors = img.shape\n",
        "ground = (np.min(img, axis=2) > 110).astype(np.float32)\n",
        "foreground = (ground == 0).astype(np.float32)\n",
        "\n",
        "m = np.mean(img, 2)\n",
        "kern = np.array([[-1, 0, 1], [-2, 0, 2], [-1, 0, 1]], dtype=np.float32)\n",
        "dmdx = conv2d(m, kern, 'same')\n",
        "dmdy = conv2d(m, kern.transpose(), 'same')\n",
        "\n",
        "mag = np.sqrt(dmdx**2 + dmdy**2)\n",
        "mag[0, :] = 0\n",
        "mag[-1, :] = 0\n",
        "mag[:, 0] = 0\n",
        "mag[:, -1] = 0\n",
        "\n",
        "theta = np.arctan2(dmdx, dmdy)\n",
        "edges = mag >= 30\n",
        "edges = edges * foreground\n",
        "\n",
        "## Occlusion and contact edges\n",
        "pi = math.pi\n",
        "vertical_edges = edges*((theta<115*pi/180)*(theta>65*pi/180)+(theta<-65*pi/180)*(theta>-115*pi/180));\n",
        "horizontal_edges = edges * (1-vertical_edges) \n",
        "\n",
        "kern = np.array([[-1, -2, -1], [0, 0, 0], [1, 2, 1]], dtype=np.float32)\n",
        "horizontal_ground_to_foreground_edges = (conv2d(ground, kern, 'same'))>0;\n",
        "horizontal_foreground_to_ground_edges = (conv2d(foreground, kern, 'same'))>0;\n",
        "vertical_ground_to_foreground_edges = vertical_edges*np.abs(conv2d(ground, kern.transpose(), 'same'))>0\n",
        "\n",
        "\n",
        "occlusion_edges = edges*(vertical_ground_to_foreground_edges + horizontal_ground_to_foreground_edges)\n",
        "contact_edges   = horizontal_edges*(horizontal_foreground_to_ground_edges);\n",
        "\n",
        "\n",
        "E = np.concatenate([vertical_edges[:,:,None], \n",
        "                    horizontal_edges[:,:,None], \n",
        "                    np.zeros(occlusion_edges.shape)[:,:,None]], 2)\n",
        "\n",
        "\n",
        "# Plot\n",
        "plt.figure()\n",
        "plt.subplot(2,2,1)\n",
        "plt.imshow(img.astype(np.uint8))\n",
        "plt.axis('off')\n",
        "plt.title('Input image')\n",
        "plt.subplot(2,2,2)\n",
        "plt.imshow(edges == 0, cmap='gray')\n",
        "plt.axis('off')\n",
        "plt.title('Edges')\n",
        "\n",
        "# Normals\n",
        "K = 3\n",
        "ey, ex = np.where(edges[::K, ::K])\n",
        "ex *= K\n",
        "ey *= K\n",
        "plt.figure()\n",
        "plt.subplot(2,2,3)\n",
        "plt.imshow(np.max(mag)-mag, cmap='gray')\n",
        "dxe = dmdx[::K, ::K][edges[::K, ::K] > 0]\n",
        "dye = dmdy[::K, ::K][edges[::K, ::K] > 0]\n",
        "n = np.sqrt(dxe**2 + dye**2)\n",
        "dxe = dxe/n\n",
        "dye = dye/n\n",
        "plt.quiver(ex, ey, dxe, -dye, color='r')\n",
        "plt.axis('off')\n",
        "plt.title('Normals')\n",
        "plt.show()\n",
        "\n",
        "\n",
        "\n",
        "# Edges and boundaries\n",
        "plt.figure()\n",
        "plt.subplot(2,2,1)\n",
        "plt.imshow(img.astype(np.uint8))\n",
        "plt.axis('off')\n",
        "plt.title('Input image')\n",
        "\n",
        "\n",
        "plt.subplot(2,2,2)\n",
        "plt.imshow(E+(edges == 0)[:, :, None])\n",
        "plt.axis('off')\n",
        "plt.title('Edges')\n",
        "\n",
        "\n",
        "plt.subplot(2,2,3)\n",
        "plt.imshow(1-(occlusion_edges>0), cmap='gray')\n",
        "plt.axis('off')\n",
        "plt.title('Occlusion boundaries')\n",
        "\n",
        "plt.subplot(2,2,4)\n",
        "plt.imshow(1-contact_edges, cmap='gray')\n",
        "plt.axis('off')\n",
        "plt.title('Contact boundaries');\n",
        "\n"
      ],
      "execution_count": 0,
      "outputs": []
    },
    {
      "cell_type": "markdown",
      "metadata": {
        "id": "KwJSE6oWxA-y",
        "colab_type": "text"
      },
      "source": [
        "# Build constraints\n",
        "Fill out code **here**"
      ]
    },
    {
      "cell_type": "code",
      "metadata": {
        "id": "AZQSKQ5pQURN",
        "colab_type": "code",
        "colab": {}
      },
      "source": [
        "Nconstraints = nrows*ncols*20\n",
        "Aij = np.zeros((3, 3, Nconstraints))\n",
        "ii = np.zeros((Nconstraints, 1));\n",
        "jj = np.zeros((Nconstraints, 1));\n",
        "b = np.zeros((Nconstraints, 1));\n",
        "\n",
        "V = np.zeros((nrows, ncols))\n",
        "# Create linear contraints\n",
        "c = 0\n",
        "for i in range(1, nrows-1):\n",
        "  for j in range(1, ncols-1):\n",
        "    if ground[i,j]:\n",
        "      # Y = 0\n",
        "      Aij[:,:,c] = np.array([[0, 0, 0], [0, 1, 0], [0, 0, 0]])\n",
        "      ii[c] = i\n",
        "      jj[c] = j\n",
        "      b[c] = 0\n",
        "      V[i,j] = 0\n",
        "      c += 1 # increment constraint counter\n",
        "    else:\n",
        "      # Check if current neirborhood touches an edge\n",
        "      edgesum = np.sum(edges[i-1:i+2,j-1:j+2])\n",
        "      # Check if current neirborhood touches ground pixels\n",
        "      groundsum = np.sum(ground[i-1:i+2,j-1:j+2])\n",
        "      # Check if current neirborhood touches vertical pixels\n",
        "      verticalsum = np.sum(vertical_edges[i-1:i+2,j-1:j+2])\n",
        "      # Check if current neirborhood touches horizontal pixels\n",
        "      horizontalsum = np.sum(horizontal_edges[i-1:i+2,j-1:j+2])\n",
        "      # Orientation of edge (average over edge pixels in current\n",
        "      # neirborhood)            \n",
        "      nx = np.sum(dmdx[i-1:i+2,j-1:j+2]*edges[i-1:i+2,j-1:j+2])/edgesum\n",
        "      ny = np.sum(dmdy[i-1:i+2,j-1:j+2]*edges[i-1:i+2,j-1:j+2])/edgesum\n",
        "      \n",
        "      \n",
        "      if contact_edges[i, j]:\n",
        "        # dY/dy = 0\n",
        "        Aij[:,:,c] = np.array([[0, 0, 0], [0, 1, 0], [0, 0, 0]])\n",
        "        ii[c] = i\n",
        "        jj[c] = j\n",
        "        b[c] = 0\n",
        "        c += 1 # increment constraint counter\n",
        "      if verticalsum > 0 and groundsum == 0:\n",
        "        # dY/Dy = 1/cos a\n",
        "        Aij[:,:,c] = np.array([[-1, -2, -1], [0, 0, 0], [1, 2, 1]])/8;\n",
        "        ii[c] = i\n",
        "        jj[c] = j\n",
        "        b[c] = 1/np.cos(alpha)\n",
        "        c += 1 # increment constraint counter\n",
        "      if horizontalsum > 0 and groundsum == 0 and verticalsum == 0:\n",
        "        # dY/dt = 0\n",
        "        Aij[:,:,c] = -ny*np.array([[-1, 0, 1], [-2, 0, 2], [-1, 0, 1]])/8 + nx*np.array([[-1, -2, -1], [0, 0, 0], [1, 2, 1]])/8;\n",
        "        ii[c] = i\n",
        "        jj[c] = j\n",
        "        b[c] = 0\n",
        "        c += 1 # increment constraint counter\n",
        "      if groundsum == 0:\n",
        "        # laplacian = 0\n",
        "        # 0.1 is a weight to reduce the strength of this constraint\n",
        "        Aij[:,:,c] = 0.1*np.array([[0, 0, 0], [-1, 2, -1], [0, 0, 0]]);\n",
        "        ii[c] = i\n",
        "        jj[c] = j\n",
        "        b[c] = 0\n",
        "        c += 1 # increment constraint counter\n",
        "        \n",
        "        Aij[:,:,c] = 0.1*np.array([[0, -1, 0], [0, 2, 0], [0, -1, 0]]);\n",
        "        ii[c] = i; \n",
        "        jj[c] = j;\n",
        "        b[c] = 0;\n",
        "        c = c+1; # increment constraint counter\n",
        "\n",
        "        Aij[:,:,c] = 0.1*np.array([[0, -1, 1], [0, 1, -1], [0, 0, 0]]);\n",
        "        ii[c] = i; \n",
        "        jj[c] = j;\n",
        "        b[c] = 0;\n",
        "        c = c+1; # increment constraint counter"
      ],
      "execution_count": 0,
      "outputs": []
    },
    {
      "cell_type": "code",
      "metadata": {
        "id": "QSpddOs39eVn",
        "colab_type": "code",
        "colab": {}
      },
      "source": [
        "def sparseMatrix(i, j, Aij, imsize):\n",
        "    \"\"\" Build a sparse matrix containing 2D linear neighborhood operators\n",
        "    Input:\n",
        "        Aij = [ni, nj, nc] nc: number of neighborhoods with contraints\n",
        "        i: row index\n",
        "        j: column index\n",
        "        imsize: [nrows ncols]\n",
        "    Returns:\n",
        "        A: a sparse matrix. Each row contains one 2D linear operator\n",
        "    \"\"\"\n",
        "    ni, nj, nc = Aij.shape\n",
        "    nij = ni*nj\n",
        "    \n",
        "    a = np.zeros((nc*nij))\n",
        "    m = np.zeros((nc*nij))\n",
        "    n = np.zeros((nc*nij))\n",
        "    grid_range = np.arange(-(ni-1)/2, 1+(ni-1)/2)\n",
        "    jj, ii = np.meshgrid(grid_range, grid_range)\n",
        "    ii = ii.reshape(-1,order='F')\n",
        "    jj = jj.reshape(-1,order='F')\n",
        "    \n",
        "    \n",
        "    k = 0\n",
        "    for c in range(nc):\n",
        "        # Get matrix index\n",
        "        x = (i[c]+ii) + (j[c]+jj)*nrows\n",
        "        a[k:k+nij] = Aij[:,:,c].reshape(-1,order='F')\n",
        "        m[k:k+nij] = c\n",
        "        n[k:k+nij] = x\n",
        "        \n",
        "        k += nij\n",
        "    \n",
        "    m = m.astype(np.int32)\n",
        "    n = n.astype(np.int32)\n",
        "    A = sps.csr_matrix((a, (m,  n)))\n",
        "    \n",
        "    return A"
      ],
      "execution_count": 0,
      "outputs": []
    },
    {
      "cell_type": "markdown",
      "metadata": {
        "id": "sTIQEcU4jU9A",
        "colab_type": "text"
      },
      "source": [
        "# Build sparse matrix"
      ]
    },
    {
      "cell_type": "code",
      "metadata": {
        "id": "uYi39vCx9fco",
        "colab_type": "code",
        "colab": {}
      },
      "source": [
        "ii = ii[:c]\n",
        "jj = jj[:c]\n",
        "Aij = Aij[:,:,:c]\n",
        "b = b[:c]\n",
        "A = sparseMatrix(ii, jj, Aij, nrows)"
      ],
      "execution_count": 0,
      "outputs": []
    },
    {
      "cell_type": "markdown",
      "metadata": {
        "id": "YMNtSJS6xERN",
        "colab_type": "text"
      },
      "source": [
        "# Solve system"
      ]
    },
    {
      "cell_type": "code",
      "metadata": {
        "id": "wl4_uGQhRSoB",
        "colab_type": "code",
        "colab": {}
      },
      "source": [
        "Y = sparseqr.solve( A, b , tolerance=0)"
      ],
      "execution_count": 0,
      "outputs": []
    },
    {
      "cell_type": "code",
      "metadata": {
        "id": "p29XavWb9vgi",
        "colab_type": "code",
        "colab": {}
      },
      "source": [
        " Y = np.reshape(Y, [nrows, ncols], order='F') # Transfrom vector into image\n",
        "\n",
        "# Recover 3D world coordinates\n",
        "x, y = np.meshgrid(np.arange(ncols), np.arange(nrows))\n",
        "x = x.astype(np.float32)\n",
        "y = y.astype(np.float32)\n",
        "x -= nrows/2\n",
        "y -= ncols/2\n",
        "\n",
        "# Final coordinates\n",
        "X = x\n",
        "Z = Y*np.cos(alpha)/np.sin(alpha) - y/np.sin(alpha)\n",
        "Y = -Y\n",
        "Y = np.maximum(Y, 0);\n"
      ],
      "execution_count": 0,
      "outputs": []
    },
    {
      "cell_type": "markdown",
      "metadata": {
        "id": "N0hJyK7QZhKj",
        "colab_type": "text"
      },
      "source": [
        "# Render Image"
      ]
    },
    {
      "cell_type": "code",
      "metadata": {
        "id": "bGuohs8E9iHE",
        "colab_type": "code",
        "colab": {}
      },
      "source": [
        "E = occlusion_edges.astype(np.float32);\n",
        "E[E > 0] = np.nan;\n",
        "Z = Z+E; #  remove occluded edges\n",
        "\n",
        "plt.figure()\n",
        "plt.subplot(2,2,1)\n",
        "plt.imshow(img[1:-1, 1:-1].astype(np.uint8))\n",
        "plt.axis('off')\n",
        "plt.title('Edges')\n",
        "\n",
        "plt.subplot(2,2,2)\n",
        "plt.imshow(Z[1:-1, 1:-1], cmap='gray')\n",
        "plt.axis('off')\n",
        "plt.title('Z')\n",
        "\n",
        "\n",
        "plt.subplot(2,2,3)\n",
        "plt.imshow(Y[1:-1, 1:-1], cmap='gray')\n",
        "plt.axis('off')\n",
        "plt.title('Y')\n",
        "\n",
        "plt.subplot(2,2,4)\n",
        "plt.imshow(X[1:-1, 1:-1], cmap='gray')\n",
        "plt.axis('off')\n",
        "plt.title('X')"
      ],
      "execution_count": 0,
      "outputs": []
    },
    {
      "cell_type": "code",
      "metadata": {
        "id": "_rkokEZExQnA",
        "colab_type": "code",
        "colab": {}
      },
      "source": [
        "import matplotlib.pyplot as plt\n",
        "from mpl_toolkits.mplot3d import Axes3D\n",
        "fig = plt.figure()\n",
        "ax = fig.add_subplot(111, projection='3d')\n",
        "#ax.set_zlim([0,200])\n",
        "#ax.set_xlim([-50,150])\n",
        "#ax.set_ylim([-50,150])\n",
        "# Specify here the angle you want to see\n",
        "ax.view_init(10, -100)\n",
        "ax.plot_surface(X,Z,Y, facecolors=img/255., shade=False)"
      ],
      "execution_count": 0,
      "outputs": []
    },
    {
      "cell_type": "code",
      "metadata": {
        "id": "2wSJMpoAcb6U",
        "colab_type": "code",
        "colab": {}
      },
      "source": [
        ""
      ],
      "execution_count": 0,
      "outputs": []
    }
  ]
}